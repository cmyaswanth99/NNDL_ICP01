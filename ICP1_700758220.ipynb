{
  "nbformat": 4,
  "nbformat_minor": 0,
  "metadata": {
    "colab": {
      "provenance": []
    },
    "kernelspec": {
      "name": "python3",
      "display_name": "Python 3"
    },
    "language_info": {
      "name": "python"
    }
  },
  "cells": [
    {
      "cell_type": "code",
      "execution_count": 1,
      "metadata": {
        "colab": {
          "base_uri": "https://localhost:8080/"
        },
        "id": "AWN1TTFbWgdJ",
        "outputId": "0b86fc4c-b09b-4163-a826-449a3c7aa795"
      },
      "outputs": [
        {
          "output_type": "stream",
          "name": "stdout",
          "text": [
            "Input: python\n",
            "ohtp\n"
          ]
        }
      ],
      "source": [
        "import random\n",
        "n=input(\"Input: \")\n",
        "l=len(n)\n",
        "index=random.sample(range(l),2)\n",
        "for i in index:\n",
        "    n=n.replace(n[i],'')\n",
        "print(n[::-1])"
      ]
    },
    {
      "cell_type": "code",
      "source": [
        "x=int(input())\n",
        "y=int(input())\n",
        "print(x+y, x-y, x*y, x/y, x%y, x**y)"
      ],
      "metadata": {
        "colab": {
          "base_uri": "https://localhost:8080/"
        },
        "id": "A1XX6uqcW7L5",
        "outputId": "d0303311-f3e6-41f8-9ec7-3c8ed48122d7"
      },
      "execution_count": 2,
      "outputs": [
        {
          "output_type": "stream",
          "name": "stdout",
          "text": [
            "10\n",
            "2\n",
            "12 8 20 5.0 0 100\n"
          ]
        }
      ]
    },
    {
      "cell_type": "code",
      "source": [
        "input_string=input(\"Input a string: \")\n",
        "a=input_string.replace('python','pythons')\n",
        "print(a)"
      ],
      "metadata": {
        "colab": {
          "base_uri": "https://localhost:8080/"
        },
        "id": "UXBO54UlXK9m",
        "outputId": "acc746d0-63c0-415f-d1c7-4b0a47f28126"
      },
      "execution_count": 3,
      "outputs": [
        {
          "output_type": "stream",
          "name": "stdout",
          "text": [
            "Input a string: I love playing with python\n",
            "I love playing with pythons\n"
          ]
        }
      ]
    },
    {
      "cell_type": "code",
      "source": [
        "percentage=float(input('Enter the percentage: '))\n",
        "if(percentage>100):\n",
        "    print('check the percentage you have entered')\n",
        "elif(percentage >=90):\n",
        "    print('A grade')\n",
        "elif(percentage>=80):\n",
        "    print('B grade')\n",
        "elif(percentage>=70):\n",
        "    print('C grade')\n",
        "elif(percentage>=60):\n",
        "    print('D grade')\n",
        "else:\n",
        "    print('F grade')"
      ],
      "metadata": {
        "colab": {
          "base_uri": "https://localhost:8080/"
        },
        "id": "JnJFv4IUXUbu",
        "outputId": "bca59385-e297-4b60-cf03-a1169e485ce3"
      },
      "execution_count": 4,
      "outputs": [
        {
          "output_type": "stream",
          "name": "stdout",
          "text": [
            "Enter the percentage: 92\n",
            "A grade\n"
          ]
        }
      ]
    }
  ]
}